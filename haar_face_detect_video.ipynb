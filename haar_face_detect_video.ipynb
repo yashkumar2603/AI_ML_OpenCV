{
 "cells": [
  {
   "cell_type": "code",
   "execution_count": 9,
   "metadata": {},
   "outputs": [],
   "source": [
    "import cv2 as cv\n",
    "import numpy as np"
   ]
  },
  {
   "cell_type": "code",
   "execution_count": 10,
   "metadata": {},
   "outputs": [],
   "source": [
    "def rescale(frame, scale):\n",
    "    width=int(frame.shape[1]*scale)\n",
    "    height=int(frame.shape[0]*scale)\n",
    "    dim=(width,height)\n",
    "    return cv.resize(frame, dim, interpolation = cv.INTER_AREA)"
   ]
  },
  {
   "cell_type": "code",
   "execution_count": 11,
   "metadata": {},
   "outputs": [],
   "source": [
    "capture=cv.VideoCapture('video.mp4')"
   ]
  },
  {
   "cell_type": "code",
   "execution_count": 12,
   "metadata": {},
   "outputs": [
    {
     "ename": "AttributeError",
     "evalue": "'NoneType' object has no attribute 'shape'",
     "output_type": "error",
     "traceback": [
      "\u001b[1;31m---------------------------------------------------------------------------\u001b[0m",
      "\u001b[1;31mAttributeError\u001b[0m                            Traceback (most recent call last)",
      "Cell \u001b[1;32mIn[12], line 3\u001b[0m\n\u001b[0;32m      1\u001b[0m \u001b[39mwhile\u001b[39;00m(\u001b[39mTrue\u001b[39;00m):\n\u001b[0;32m      2\u001b[0m     isTrue, frame \u001b[39m=\u001b[39m capture\u001b[39m.\u001b[39mread()\n\u001b[1;32m----> 3\u001b[0m     framee \u001b[39m=\u001b[39m rescale(frame, \u001b[39m0.75\u001b[39;49m)\n\u001b[0;32m      4\u001b[0m     gray \u001b[39m=\u001b[39m cv\u001b[39m.\u001b[39mcvtColor(framee, cv\u001b[39m.\u001b[39mCOLOR_BGR2GRAY)\n",
      "Cell \u001b[1;32mIn[10], line 2\u001b[0m, in \u001b[0;36mrescale\u001b[1;34m(frame, scale)\u001b[0m\n\u001b[0;32m      1\u001b[0m \u001b[39mdef\u001b[39;00m \u001b[39mrescale\u001b[39m(frame, scale):\n\u001b[1;32m----> 2\u001b[0m     width\u001b[39m=\u001b[39m\u001b[39mint\u001b[39m(frame\u001b[39m.\u001b[39;49mshape[\u001b[39m1\u001b[39m]\u001b[39m*\u001b[39mscale)\n\u001b[0;32m      3\u001b[0m     height\u001b[39m=\u001b[39m\u001b[39mint\u001b[39m(frame\u001b[39m.\u001b[39mshape[\u001b[39m0\u001b[39m]\u001b[39m*\u001b[39mscale)\n\u001b[0;32m      4\u001b[0m     dim\u001b[39m=\u001b[39m(width,height)\n",
      "\u001b[1;31mAttributeError\u001b[0m: 'NoneType' object has no attribute 'shape'"
     ]
    }
   ],
   "source": [
    "while(True):\n",
    "    isTrue, frame = capture.read()\n",
    "    framee = rescale(frame, 0.75)\n",
    "    gray = cv.cvtColor(framee, cv.COLOR_BGR2GRAY)"
   ]
  },
  {
   "cell_type": "code",
   "execution_count": null,
   "metadata": {},
   "outputs": [],
   "source": [
    "    haar_cascade=cv.CascadeClassifier('haar_face.xml')\n",
    "\n",
    "    faces_rect = haar_cascade.detectMultiScale(gray, scaleFactor=1.1, minNeighbors=1)\n",
    "    print(f'Number of faces detected = {len(faces_rect)}')"
   ]
  },
  {
   "cell_type": "code",
   "execution_count": null,
   "metadata": {},
   "outputs": [],
   "source": [
    "    counter = 1\n",
    "    for(x,y,w,h) in faces_rect:\n",
    "        output = cv.rectangle(img, (x,y), (x+w, y+h), (0,255,0), thickness=2)\n",
    "        cv.putText(output, f'face {counter}' , (x, y-5), cv.FONT_HERSHEY_SIMPLEX, 0.75, (0,255,0), 1, cv.LINE_AA)\n",
    "        counter=counter+1\n",
    "    cv.imshow('output', output) "
   ]
  },
  {
   "cell_type": "code",
   "execution_count": null,
   "metadata": {},
   "outputs": [],
   "source": [
    "if cv.waitKey(20) & 0xFF==ord('q'):\n",
    "        break \n",
    "\n",
    "capture.release()\n",
    "cv.destroyAllWindows()"
   ]
  }
 ],
 "metadata": {
  "kernelspec": {
   "display_name": "Python 3",
   "language": "python",
   "name": "python3"
  },
  "language_info": {
   "codemirror_mode": {
    "name": "ipython",
    "version": 3
   },
   "file_extension": ".py",
   "mimetype": "text/x-python",
   "name": "python",
   "nbconvert_exporter": "python",
   "pygments_lexer": "ipython3",
   "version": "3.11.3"
  },
  "orig_nbformat": 4
 },
 "nbformat": 4,
 "nbformat_minor": 2
}
