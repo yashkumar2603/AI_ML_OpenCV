{
 "cells": [
  {
   "cell_type": "code",
   "execution_count": 5,
   "metadata": {},
   "outputs": [],
   "source": [
    "import cv2 as cv\n",
    "import numpy as np\n",
    "import matplotlib.pyplot as plt\n",
    "\n",
    "image = cv.imread('image.jpg')\n",
    "scale = 0.1\n",
    "width = int(image.shape[1]*scale)\n",
    "height = int(image.shape[0]*scale)\n",
    "dim=(width, height)\n",
    "img = cv.resize(image, dim, interpolation = cv.INTER_AREA)\n",
    "\n",
    "gray = cv.cvtColor(img, cv.COLOR_BGR2GRAY)\n",
    "cv.imshow('Gray', gray)"
   ]
  },
  {
   "attachments": {},
   "cell_type": "markdown",
   "metadata": {},
   "source": [
    "# Histogram\n",
    "### Histogram for Grayscale image"
   ]
  },
  {
   "cell_type": "code",
   "execution_count": null,
   "metadata": {},
   "outputs": [],
   "source": [
    "gray_hist = cv.calcHist([gray], [0], None, [256], [0,256])\n",
    "\n",
    "plt.figure()\n",
    "plt.title('Gray Histogram')\n",
    "plt.xlabel('bins')\n",
    "plt.ylabel('# of pixels')\n",
    "plt.plot(gray_hist)\n",
    "plt.xlim([0,256])\n",
    "plt.show()\n",
    "\n",
    "cv.waitKey(0)"
   ]
  },
  {
   "attachments": {},
   "cell_type": "markdown",
   "metadata": {},
   "source": [
    "### Histogram from color image"
   ]
  },
  {
   "cell_type": "code",
   "execution_count": null,
   "metadata": {},
   "outputs": [],
   "source": [
    "plt.figure()\n",
    "plt.title('Colour histogram')\n",
    "plt.xlabel('bins')\n",
    "plt.ylabel('# of pixels')\n",
    "colors = ('b', 'g', 'r')\n",
    "cv.imshow('color image', img)\n",
    "for i, col in enumerate(colors):\n",
    "    hist = cv.calcHist([img], [i], None, [256], [0,256])\n",
    "    plt.plot(hist, color=col)\n",
    "    plt.xlim([0,256])\n",
    "plt.show()"
   ]
  },
  {
   "cell_type": "code",
   "execution_count": null,
   "metadata": {},
   "outputs": [],
   "source": [
    "cv.waitKey(0)"
   ]
  }
 ],
 "metadata": {
  "kernelspec": {
   "display_name": "Python 3",
   "language": "python",
   "name": "python3"
  },
  "language_info": {
   "codemirror_mode": {
    "name": "ipython",
    "version": 3
   },
   "file_extension": ".py",
   "mimetype": "text/x-python",
   "name": "python",
   "nbconvert_exporter": "python",
   "pygments_lexer": "ipython3",
   "version": "3.11.3"
  },
  "orig_nbformat": 4
 },
 "nbformat": 4,
 "nbformat_minor": 2
}
