{
 "cells": [
  {
   "attachments": {},
   "cell_type": "markdown",
   "metadata": {},
   "source": [
    "# MASKING in OpenCV\n",
    "#### using bitwise operators"
   ]
  },
  {
   "cell_type": "code",
   "execution_count": null,
   "metadata": {},
   "outputs": [],
   "source": [
    "import cv2 as cv\n",
    "import numpy as np"
   ]
  },
  {
   "cell_type": "code",
   "execution_count": null,
   "metadata": {},
   "outputs": [],
   "source": [
    "image = cv.imread('image.jpg')\n",
    "scale = 0.1\n",
    "width = int(image.shape[1]*scale)\n",
    "height = int(image.shape[0]*scale)\n",
    "dim=(width, height)\n",
    "img = cv.resize(image, dim, interpolation = cv.INTER_AREA)"
   ]
  },
  {
   "attachments": {},
   "cell_type": "markdown",
   "metadata": {},
   "source": [
    "#### Create Blank image \n",
    "#### And create a circle on it to be used as a mask."
   ]
  },
  {
   "cell_type": "code",
   "execution_count": null,
   "metadata": {},
   "outputs": [],
   "source": [
    "blank = np.zeros(img.shape[:2], dtype = 'uint8')\n",
    "mask = cv.circle(blank, (200, 200), 100, 255, -1)"
   ]
  },
  {
   "attachments": {},
   "cell_type": "markdown",
   "metadata": {},
   "source": [
    "#### Now since we have our image with which we will mask, we go ahead and do the actual masking."
   ]
  },
  {
   "cell_type": "code",
   "execution_count": null,
   "metadata": {},
   "outputs": [],
   "source": [
    "masked = cv.bitwise_and(img, img, mask=mask)\n",
    "cv.imshow('masked image', masked)"
   ]
  },
  {
   "attachments": {},
   "cell_type": "markdown",
   "metadata": {},
   "source": [
    "## Now we can customize the mask and make it whatever we want.\n",
    "### Imp note : Mask needs to be of the same dimension as the original image or it wont work and wont show up"
   ]
  }
 ],
 "metadata": {
  "language_info": {
   "name": "python"
  },
  "orig_nbformat": 4
 },
 "nbformat": 4,
 "nbformat_minor": 2
}
