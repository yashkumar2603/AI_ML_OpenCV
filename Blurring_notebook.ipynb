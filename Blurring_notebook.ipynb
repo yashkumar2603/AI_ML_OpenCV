{
 "cells": [
  {
   "cell_type": "code",
   "execution_count": 2,
   "metadata": {},
   "outputs": [],
   "source": [
    "import cv2 as cv\n",
    "import numpy as np"
   ]
  },
  {
   "cell_type": "code",
   "execution_count": 3,
   "metadata": {},
   "outputs": [],
   "source": [
    "image = cv.imread('image.jpg')\n",
    "scale = 0.1\n",
    "width = int(image.shape[1]*scale)\n",
    "height = int(image.shape[0]*scale)\n",
    "dim=(width, height)\n",
    "img = cv.resize(image, dim, interpolation = cv.INTER_AREA)"
   ]
  },
  {
   "attachments": {},
   "cell_type": "markdown",
   "metadata": {},
   "source": [
    "# Blurring in OpenCV :\n",
    "## 1. Averaging : \n",
    "### finds average of the surrounding x by x block of a pixel and assigns the value to it.\n",
    "#### Increase the block size for more blur."
   ]
  },
  {
   "cell_type": "code",
   "execution_count": 4,
   "metadata": {},
   "outputs": [],
   "source": [
    "#average \n",
    "average=cv.blur(img, (7,7))\n",
    "cv.imshow('average blur', average)"
   ]
  },
  {
   "attachments": {},
   "cell_type": "markdown",
   "metadata": {},
   "source": [
    "## 2.Gaussian Blur\n",
    "### Finds average with weights to cells.\n",
    "#### the third arguement is the standard deviation in x-dirn."
   ]
  },
  {
   "cell_type": "code",
   "execution_count": null,
   "metadata": {},
   "outputs": [],
   "source": [
    "gauss = cv.GaussianBlur(img, (3,3), 0)\n",
    "cv.imshow('Gaussian Blur', gauss)"
   ]
  },
  {
   "attachments": {},
   "cell_type": "markdown",
   "metadata": {},
   "source": [
    "## 3. Median Blur\n",
    "### Finds median of the surounding pixels instead of the average\n",
    "#### Used in noise reduction, looks less blurred than gaussian, meant to be used with less kernel sizes and makes an image keeping hard edges sharp and all, looks like smudging."
   ]
  },
  {
   "cell_type": "code",
   "execution_count": null,
   "metadata": {},
   "outputs": [],
   "source": [
    "median = cv.medianBlur(img, 3)\n",
    "cv.imshow('Median blur', median)"
   ]
  },
  {
   "attachments": {},
   "cell_type": "markdown",
   "metadata": {},
   "source": [
    "## 4. Bilateral Blur\n",
    "### Most important, because it retains the edges and applies the blur.\n",
    "#### Looks like a smudged painting version of the original image. Read more about each parameter of this function(important)."
   ]
  },
  {
   "cell_type": "code",
   "execution_count": null,
   "metadata": {},
   "outputs": [],
   "source": [
    "bilateral = cv.bilateralFilter(img, 10, 35, 25)\n",
    "cv.imshow('bilateral blur', bilateral)"
   ]
  }
 ],
 "metadata": {
  "kernelspec": {
   "display_name": "Python 3",
   "language": "python",
   "name": "python3"
  },
  "language_info": {
   "codemirror_mode": {
    "name": "ipython",
    "version": 3
   },
   "file_extension": ".py",
   "mimetype": "text/x-python",
   "name": "python",
   "nbconvert_exporter": "python",
   "pygments_lexer": "ipython3",
   "version": "3.11.3"
  },
  "orig_nbformat": 4
 },
 "nbformat": 4,
 "nbformat_minor": 2
}
